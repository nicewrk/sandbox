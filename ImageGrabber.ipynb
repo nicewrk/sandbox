{
 "cells": [
  {
   "cell_type": "code",
   "execution_count": 4,
   "metadata": {
    "collapsed": true
   },
   "outputs": [],
   "source": [
    "import os\n",
    "import requests"
   ]
  },
  {
   "cell_type": "code",
   "execution_count": 8,
   "metadata": {
    "collapsed": true
   },
   "outputs": [],
   "source": [
    "REDDIT_URL = 'https://www.reddit.com'\n",
    "SUBREDDIT = 'aww'\n",
    "SUBREDDIT_PATH = 'r/{sub}.json'.format(sub=SUBREDDIT)"
   ]
  },
  {
   "cell_type": "code",
   "execution_count": 91,
   "metadata": {},
   "outputs": [
    {
     "name": "stdout",
     "output_type": "stream",
     "text": [
      "https://www.reddit.com/r/aww.json\n"
     ]
    }
   ],
   "source": [
    "URL = os.path.join(REDDIT_URL, SUBREDDIT_PATH)\n",
    "print(URL)"
   ]
  },
  {
   "cell_type": "code",
   "execution_count": 94,
   "metadata": {},
   "outputs": [],
   "source": [
    "HEADERS = {\n",
    "    'authority': 'www.reddit.com',\n",
    "    'Content-Type': 'application/json'\n",
    "}\n",
    "r = requests.get('https://www.reddit.com/r/aww.json', headers=HEADERS)\n",
    "\n",
    "resp = dict()\n",
    "if r.status_code == 200:\n",
    "    resp = r.json()\n",
    "else:\n",
    "    raise Exception('error: accessing Reddit |', r.status_code, r.text)"
   ]
  },
  {
   "cell_type": "code",
   "execution_count": 95,
   "metadata": {},
   "outputs": [
    {
     "name": "stdout",
     "output_type": "stream",
     "text": [
      "dict_keys(['kind', 'data'])\n",
      "Listing\n",
      "dict_keys(['modhash', 'whitelist_status', 'children', 'after', 'before'])\n",
      "26\n",
      "dict_keys(['kind', 'data'])\n",
      "t3\n",
      "{'t3'}\n",
      "['approved_at_utc', 'approved_by', 'archived', 'author', 'author_flair_css_class', 'author_flair_text', 'banned_at_utc', 'banned_by', 'brand_safe', 'can_gild', 'can_mod_post', 'clicked', 'contest_mode', 'created', 'created_utc', 'distinguished', 'domain', 'downs', 'edited', 'gilded', 'hidden', 'hide_score', 'id', 'is_crosspostable', 'is_reddit_media_domain', 'is_self', 'is_video', 'likes', 'link_flair_css_class', 'link_flair_text', 'locked', 'media', 'media_embed', 'mod_reports', 'name', 'num_comments', 'num_crossposts', 'num_reports', 'over_18', 'parent_whitelist_status', 'permalink', 'pinned', 'post_hint', 'preview', 'quarantine', 'removal_reason', 'report_reasons', 'saved', 'score', 'secure_media', 'secure_media_embed', 'selftext', 'selftext_html', 'spoiler', 'stickied', 'subreddit', 'subreddit_id', 'subreddit_name_prefixed', 'subreddit_type', 'suggested_sort', 'thumbnail', 'thumbnail_height', 'thumbnail_width', 'title', 'ups', 'url', 'user_reports', 'view_count', 'visited', 'whitelist_status']\n",
      "/r/HappyCowGifs: /r/Aww Subreddit of the Week\n"
     ]
    }
   ],
   "source": [
    "print(resp.keys())\n",
    "print(resp['kind'])\n",
    "print(resp['data'].keys())\n",
    "print(len(resp['data']['children']))\n",
    "print(resp['data']['children'][0].keys())\n",
    "print(resp['data']['children'][0]['kind'])\n",
    "print(set([c['kind'] for c in resp['data']['children']]))\n",
    "print(sorted(resp['data']['children'][0]['data'].keys()))\n",
    "print(resp['data']['children'][0]['data']['title'])"
   ]
  },
  {
   "cell_type": "code",
   "execution_count": 96,
   "metadata": {},
   "outputs": [
    {
     "name": "stdout",
     "output_type": "stream",
     "text": [
      "N8theGr8\n",
      "1512672762.0\n",
      "0\n",
      "7i8p8d\n",
      "False\n",
      "9\n",
      "/r/aww/comments/7i8p8d/rhappycowgifs_raww_subreddit_of_the_week/\n",
      "https://a.thumbs.redditmedia.com/mrGOUKML4J-uGVE9aDYP3g_w62gLteDPAobIJsLSZr8.jpg\n",
      "/r/HappyCowGifs: /r/Aww Subreddit of the Week\n",
      "96\n"
     ]
    }
   ],
   "source": [
    "print(resp['data']['children'][0]['data']['author'])\n",
    "print(resp['data']['children'][0]['data']['created_utc'])\n",
    "print(resp['data']['children'][0]['data']['downs'])\n",
    "print(resp['data']['children'][0]['data']['id'])\n",
    "print(resp['data']['children'][0]['data']['is_video'])\n",
    "print(resp['data']['children'][0]['data']['num_comments'])\n",
    "print(resp['data']['children'][0]['data']['permalink'])\n",
    "print(resp['data']['children'][0]['data']['thumbnail'])\n",
    "print(resp['data']['children'][0]['data']['title'])\n",
    "print(resp['data']['children'][0]['data']['ups'])"
   ]
  },
  {
   "cell_type": "code",
   "execution_count": 97,
   "metadata": {},
   "outputs": [
    {
     "name": "stdout",
     "output_type": "stream",
     "text": [
      "domain: i.imgur.com\n",
      "\n",
      "approved_at_utc: None\n",
      "\n",
      "banned_by: None\n",
      "\n",
      "media_embed: {}\n",
      "\n",
      "thumbnail_width: 140\n",
      "\n",
      "subreddit: aww\n",
      "\n",
      "selftext_html: None\n",
      "\n",
      "selftext: \n",
      "\n",
      "likes: None\n",
      "\n",
      "suggested_sort: None\n",
      "\n",
      "user_reports: []\n",
      "\n",
      "secure_media: None\n",
      "\n",
      "is_reddit_media_domain: False\n",
      "\n",
      "link_flair_text: None\n",
      "\n",
      "id: 7ixff9\n",
      "\n",
      "banned_at_utc: None\n",
      "\n",
      "view_count: None\n",
      "\n",
      "archived: False\n",
      "\n",
      "clicked: False\n",
      "\n",
      "report_reasons: None\n",
      "\n",
      "title: Rhinodoggo\n",
      "\n",
      "num_crossposts: 0\n",
      "\n",
      "saved: False\n",
      "\n",
      "mod_reports: []\n",
      "\n",
      "can_mod_post: False\n",
      "\n",
      "is_crosspostable: False\n",
      "\n",
      "pinned: False\n",
      "\n",
      "score: 19205\n",
      "\n",
      "approved_by: None\n",
      "\n",
      "over_18: False\n",
      "\n",
      "hidden: False\n",
      "\n",
      "preview: {'images': [{'source': {'url': 'https://i.redditmedia.com/VFuZm4_bUBd_J8lD0feon1c4uS7tro7jGNm-8lPsoWU.jpg?s=d39673195434ec383590e56fd9030abe', 'width': 645, 'height': 645}, 'resolutions': [{'url': 'https://i.redditmedia.com/VFuZm4_bUBd_J8lD0feon1c4uS7tro7jGNm-8lPsoWU.jpg?fit=crop&amp;crop=faces%2Centropy&amp;arh=2&amp;w=108&amp;s=7e4d4fbad02a07c5ab5a06e1534bfe7e', 'width': 108, 'height': 108}, {'url': 'https://i.redditmedia.com/VFuZm4_bUBd_J8lD0feon1c4uS7tro7jGNm-8lPsoWU.jpg?fit=crop&amp;crop=faces%2Centropy&amp;arh=2&amp;w=216&amp;s=b0085edc9d73b527b2a0f1905232e92e', 'width': 216, 'height': 216}, {'url': 'https://i.redditmedia.com/VFuZm4_bUBd_J8lD0feon1c4uS7tro7jGNm-8lPsoWU.jpg?fit=crop&amp;crop=faces%2Centropy&amp;arh=2&amp;w=320&amp;s=e5a2b8a4841ccbcd199e3a8631710cbd', 'width': 320, 'height': 320}, {'url': 'https://i.redditmedia.com/VFuZm4_bUBd_J8lD0feon1c4uS7tro7jGNm-8lPsoWU.jpg?fit=crop&amp;crop=faces%2Centropy&amp;arh=2&amp;w=640&amp;s=0eb52576a6555100a78dc2c0ee19b2b7', 'width': 640, 'height': 640}], 'variants': {}, 'id': '3-V3PTJ-2R8bSqdbe5zTuYU_QokYbZw3lS2F2CICu9s'}], 'enabled': True}\n",
      "\n",
      "thumbnail: https://b.thumbs.redditmedia.com/HophOJ0KKEzDgKDLT_3okKfZr8QauXRiZoSWtMhebBk.jpg\n",
      "\n",
      "subreddit_id: t5_2qh1o\n",
      "\n",
      "edited: False\n",
      "\n",
      "link_flair_css_class: None\n",
      "\n",
      "author_flair_css_class: None\n",
      "\n",
      "contest_mode: False\n",
      "\n",
      "gilded: 0\n",
      "\n",
      "downs: 0\n",
      "\n",
      "brand_safe: True\n",
      "\n",
      "secure_media_embed: {}\n",
      "\n",
      "removal_reason: None\n",
      "\n",
      "post_hint: image\n",
      "\n",
      "author_flair_text: None\n",
      "\n",
      "stickied: False\n",
      "\n",
      "can_gild: False\n",
      "\n",
      "thumbnail_height: 140\n",
      "\n",
      "parent_whitelist_status: all_ads\n",
      "\n",
      "name: t3_7ixff9\n",
      "\n",
      "spoiler: False\n",
      "\n",
      "permalink: /r/aww/comments/7ixff9/rhinodoggo/\n",
      "\n",
      "subreddit_type: public\n",
      "\n",
      "locked: False\n",
      "\n",
      "hide_score: False\n",
      "\n",
      "created: 1512973986.0\n",
      "\n",
      "url: https://i.imgur.com/JQ3EZ04.jpg\n",
      "\n",
      "whitelist_status: all_ads\n",
      "\n",
      "quarantine: False\n",
      "\n",
      "author: dickfromaccounting\n",
      "\n",
      "created_utc: 1512945186.0\n",
      "\n",
      "subreddit_name_prefixed: r/aww\n",
      "\n",
      "ups: 19205\n",
      "\n",
      "media: None\n",
      "\n",
      "num_comments: 129\n",
      "\n",
      "is_self: False\n",
      "\n",
      "visited: False\n",
      "\n",
      "num_reports: None\n",
      "\n",
      "is_video: False\n",
      "\n",
      "distinguished: None\n",
      "\n"
     ]
    }
   ],
   "source": [
    "for k,v in resp['data']['children'][2]['data'].items():\n",
    "    print(\"{k}: {v}\\n\".format(k=k, v=v))"
   ]
  },
  {
   "cell_type": "markdown",
   "metadata": {},
   "source": [
    "---"
   ]
  },
  {
   "cell_type": "code",
   "execution_count": 100,
   "metadata": {},
   "outputs": [
    {
     "data": {
      "text/plain": [
       "'https://www.reddit.com'"
      ]
     },
     "execution_count": 100,
     "metadata": {},
     "output_type": "execute_result"
    }
   ],
   "source": [
    "REDDIT_URL"
   ]
  },
  {
   "cell_type": "code",
   "execution_count": 105,
   "metadata": {},
   "outputs": [
    {
     "name": "stdout",
     "output_type": "stream",
     "text": [
      "https://www.reddit.com/r/aww/comments/7i8p8d/rhappycowgifs_raww_subreddit_of_the_week/\n"
     ]
    }
   ],
   "source": [
    "COMMENTS_URL ='{reddit_url}{path}'.format(reddit_url=REDDIT_URL, path=resp['data']['children'][0]['data']['permalink'])\n",
    "print(COMMENTS_URL)"
   ]
  },
  {
   "cell_type": "code",
   "execution_count": 106,
   "metadata": {},
   "outputs": [
    {
     "ename": "Exception",
     "evalue": "('error: accessing Reddit |', 429, '\\n<!doctype html>\\n<html>\\n  <head>\\n    <title>Too Many Requests</title>\\n    <style>\\n      body {\\n          font: small verdana, arial, helvetica, sans-serif;\\n          width: 600px;\\n          margin: 0 auto;\\n      }\\n\\n      h1 {\\n          height: 40px;\\n          background: transparent url(//www.redditstatic.com/reddit.com.header.png) no-repeat scroll top right;\\n      }\\n    </style>\\n  </head>\\n  <body>\\n    <h1>whoa there, pardner!</h1>\\n    \\n\\n\\n<p>we\\'re sorry, but you appear to be a bot and we\\'ve seen too many requests\\nfrom you lately. we enforce a hard speed limit on requests that appear to come\\nfrom bots to prevent abuse.</p>\\n\\n<p>if you are not a bot but are spoofing one via your browser\\'s user agent\\nstring: please change your user agent string to avoid seeing this message\\nagain.</p>\\n\\n<p>please wait 7 second(s) and try again.</p>\\n\\n    <p>as a reminder to developers, we recommend that clients make no\\n    more than <a href=\"http://github.com/reddit/reddit/wiki/API\">one\\n    request every two seconds</a> to avoid seeing this message.</p>\\n  </body>\\n</html>\\n')",
     "output_type": "error",
     "traceback": [
      "\u001b[0;31m---------------------------------------------------------------------------\u001b[0m",
      "\u001b[0;31mException\u001b[0m                                 Traceback (most recent call last)",
      "\u001b[0;32m<ipython-input-106-fa31941cb344>\u001b[0m in \u001b[0;36m<module>\u001b[0;34m()\u001b[0m\n\u001b[1;32m      5\u001b[0m     \u001b[0mresp\u001b[0m \u001b[0;34m=\u001b[0m \u001b[0mr\u001b[0m\u001b[0;34m.\u001b[0m\u001b[0mjson\u001b[0m\u001b[0;34m(\u001b[0m\u001b[0;34m)\u001b[0m\u001b[0;34m\u001b[0m\u001b[0m\n\u001b[1;32m      6\u001b[0m \u001b[0;32melse\u001b[0m\u001b[0;34m:\u001b[0m\u001b[0;34m\u001b[0m\u001b[0m\n\u001b[0;32m----> 7\u001b[0;31m     \u001b[0;32mraise\u001b[0m \u001b[0mException\u001b[0m\u001b[0;34m(\u001b[0m\u001b[0;34m'error: accessing Reddit |'\u001b[0m\u001b[0;34m,\u001b[0m \u001b[0mr\u001b[0m\u001b[0;34m.\u001b[0m\u001b[0mstatus_code\u001b[0m\u001b[0;34m,\u001b[0m \u001b[0mr\u001b[0m\u001b[0;34m.\u001b[0m\u001b[0mtext\u001b[0m\u001b[0;34m)\u001b[0m\u001b[0;34m\u001b[0m\u001b[0m\n\u001b[0m",
      "\u001b[0;31mException\u001b[0m: ('error: accessing Reddit |', 429, '\\n<!doctype html>\\n<html>\\n  <head>\\n    <title>Too Many Requests</title>\\n    <style>\\n      body {\\n          font: small verdana, arial, helvetica, sans-serif;\\n          width: 600px;\\n          margin: 0 auto;\\n      }\\n\\n      h1 {\\n          height: 40px;\\n          background: transparent url(//www.redditstatic.com/reddit.com.header.png) no-repeat scroll top right;\\n      }\\n    </style>\\n  </head>\\n  <body>\\n    <h1>whoa there, pardner!</h1>\\n    \\n\\n\\n<p>we\\'re sorry, but you appear to be a bot and we\\'ve seen too many requests\\nfrom you lately. we enforce a hard speed limit on requests that appear to come\\nfrom bots to prevent abuse.</p>\\n\\n<p>if you are not a bot but are spoofing one via your browser\\'s user agent\\nstring: please change your user agent string to avoid seeing this message\\nagain.</p>\\n\\n<p>please wait 7 second(s) and try again.</p>\\n\\n    <p>as a reminder to developers, we recommend that clients make no\\n    more than <a href=\"http://github.com/reddit/reddit/wiki/API\">one\\n    request every two seconds</a> to avoid seeing this message.</p>\\n  </body>\\n</html>\\n')"
     ]
    }
   ],
   "source": [
    "r = requests.get(COMMENTS_URL, headers=HEADERS)\n",
    "\n",
    "resp = dict()\n",
    "if r.status_code == 200:\n",
    "    resp = r.json()\n",
    "else:\n",
    "    raise Exception('error: accessing Reddit |', r.status_code, r.text)"
   ]
  }
 ],
 "metadata": {
  "kernelspec": {
   "display_name": "Python 3",
   "language": "python",
   "name": "python3"
  },
  "language_info": {
   "codemirror_mode": {
    "name": "ipython",
    "version": 3
   },
   "file_extension": ".py",
   "mimetype": "text/x-python",
   "name": "python",
   "nbconvert_exporter": "python",
   "pygments_lexer": "ipython3",
   "version": "3.6.3"
  }
 },
 "nbformat": 4,
 "nbformat_minor": 2
}
